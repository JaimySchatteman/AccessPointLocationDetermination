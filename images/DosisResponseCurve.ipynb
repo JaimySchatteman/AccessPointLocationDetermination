{
 "cells": [
  {
   "cell_type": "code",
   "execution_count": 1,
   "metadata": {},
   "outputs": [],
   "source": [
    "import pandas as pd\n",
    "import numpy as np\n",
    "import scipy.optimize as opt\n",
    "import seaborn as sns\n",
    "import matplotlib.pyplot as plt\n",
    "%matplotlib inline"
   ]
  },
  {
   "cell_type": "code",
   "execution_count": 2,
   "metadata": {},
   "outputs": [],
   "source": [
    "def ll4(x,b,c,d,e):\n",
    "    '''This function is basically a copy of the LL.4 function from the R drc package with\n",
    "     - b: hill slope\n",
    "     - c: min response\n",
    "     - d: max response\n",
    "     - e: EC50'''\n",
    "    return(c+(d-c)/(1+np.exp(b*(np.log(x)-np.log(e)))))\n",
    "\n",
    "def pDose(x):\n",
    "    '''This is just a helper function, to compute easily log transformed concentrations used in drug discovery'''\n",
    "    return(-np.log10(1e-6*x))"
   ]
  },
  {
   "cell_type": "code",
   "execution_count": 23,
   "metadata": {},
   "outputs": [
    {
     "name": "stdout",
     "output_type": "stream",
     "text": [
      "Geef het aantal stoffen in (max 26): \n"
     ]
    },
    {
     "name": "stdin",
     "output_type": "stream",
     "text": [
      " 2\n"
     ]
    },
    {
     "name": "stdout",
     "output_type": "stream",
     "text": [
      "Geef voor stof A de waarde voor b in: \n"
     ]
    },
    {
     "name": "stdin",
     "output_type": "stream",
     "text": [
      " 1\n"
     ]
    },
    {
     "name": "stdout",
     "output_type": "stream",
     "text": [
      "Geef voor stof A de waarde voor c in: \n"
     ]
    },
    {
     "name": "stdin",
     "output_type": "stream",
     "text": [
      " 0\n"
     ]
    },
    {
     "name": "stdout",
     "output_type": "stream",
     "text": [
      "Geef voor stof A de waarde voor d in: \n"
     ]
    },
    {
     "name": "stdin",
     "output_type": "stream",
     "text": [
      " 12\n"
     ]
    },
    {
     "name": "stdout",
     "output_type": "stream",
     "text": [
      "Geef voor stof A de waarde voor e in: \n"
     ]
    },
    {
     "name": "stdin",
     "output_type": "stream",
     "text": [
      " 27.8\n"
     ]
    },
    {
     "name": "stdout",
     "output_type": "stream",
     "text": [
      "Geef voor stof A de waarde voor startDose in: \n"
     ]
    },
    {
     "name": "stdin",
     "output_type": "stream",
     "text": [
      " 195.3\n"
     ]
    },
    {
     "name": "stdout",
     "output_type": "stream",
     "text": [
      "Geef voor stof A de waarde voor nDose in: \n"
     ]
    },
    {
     "name": "stdin",
     "output_type": "stream",
     "text": [
      " 10\n"
     ]
    },
    {
     "name": "stdout",
     "output_type": "stream",
     "text": [
      "Geef voor stof A de waarde voor dilution in: \n"
     ]
    },
    {
     "name": "stdin",
     "output_type": "stream",
     "text": [
      " 2\n"
     ]
    },
    {
     "name": "stdout",
     "output_type": "stream",
     "text": [
      "Geef voor stof B de waarde voor b in: \n"
     ]
    },
    {
     "name": "stdin",
     "output_type": "stream",
     "text": [
      " 1\n"
     ]
    },
    {
     "name": "stdout",
     "output_type": "stream",
     "text": [
      "Geef voor stof B de waarde voor c in: \n"
     ]
    },
    {
     "name": "stdin",
     "output_type": "stream",
     "text": [
      " 0\n"
     ]
    },
    {
     "name": "stdout",
     "output_type": "stream",
     "text": [
      "Geef voor stof B de waarde voor d in: \n"
     ]
    },
    {
     "name": "stdin",
     "output_type": "stream",
     "text": [
      " 2\n"
     ]
    },
    {
     "name": "stdout",
     "output_type": "stream",
     "text": [
      "Geef voor stof B de waarde voor e in: \n"
     ]
    },
    {
     "name": "stdin",
     "output_type": "stream",
     "text": [
      " 24.5\n"
     ]
    },
    {
     "name": "stdout",
     "output_type": "stream",
     "text": [
      "Geef voor stof B de waarde voor startDose in: \n"
     ]
    },
    {
     "name": "stdin",
     "output_type": "stream",
     "text": [
      " 390.625\n"
     ]
    },
    {
     "name": "stdout",
     "output_type": "stream",
     "text": [
      "Geef voor stof B de waarde voor nDose in: \n"
     ]
    },
    {
     "name": "stdin",
     "output_type": "stream",
     "text": [
      " 8\n"
     ]
    },
    {
     "name": "stdout",
     "output_type": "stream",
     "text": [
      "Geef voor stof B de waarde voor dilution in: \n"
     ]
    },
    {
     "name": "stdin",
     "output_type": "stream",
     "text": [
      " 2\n"
     ]
    }
   ],
   "source": [
    "alfabet = \"ABCDEFGHIJKLMNOPQRSTUVWXYZ\"\n",
    "params = []\n",
    "\n",
    "print(\"Geef het aantal stoffen in (max 26): \")\n",
    "aantal_param = int(input())\n",
    "\n",
    "for i in range(0, aantal_param):\n",
    "    print(\"Geef voor stof \" + alfabet[i] + \" de waarde voor b in: \")\n",
    "    b = float(input())\n",
    "    print(\"Geef voor stof \" + alfabet[i] + \" de waarde voor c in: \")\n",
    "    c = float(input())\n",
    "    print(\"Geef voor stof \" + alfabet[i] + \" de waarde voor d in: \")\n",
    "    d = float(input())\n",
    "    print(\"Geef voor stof \" + alfabet[i] + \" de waarde voor e in: \")\n",
    "    e = float(input())\n",
    "    print(\"Geef voor stof \" + alfabet[i] + \" de waarde voor startDose in: \")\n",
    "    startDose = float(input())\n",
    "    print(\"Geef voor stof \" + alfabet[i] + \" de waarde voor nDose in: \")\n",
    "    nDose = int(input())\n",
    "    print(\"Geef voor stof \" + alfabet[i] + \" de waarde voor dilution in: \")\n",
    "    dilution = int(input())\n",
    "    params.append({'compound': alfabet[i], 'b' : b, 'c' : c, 'd' : d, 'e' : e,'startDose' : startDose, 'nDose': nDose, 'dilution' : dilution})"
   ]
  },
  {
   "cell_type": "code",
   "execution_count": 24,
   "metadata": {},
   "outputs": [],
   "source": [
    "paramsCompound = [item['compound'] for item in params]"
   ]
  },
  {
   "cell_type": "code",
   "execution_count": 25,
   "metadata": {},
   "outputs": [
    {
     "data": {
      "text/html": [
       "<div>\n",
       "<style scoped>\n",
       "    .dataframe tbody tr th:only-of-type {\n",
       "        vertical-align: middle;\n",
       "    }\n",
       "\n",
       "    .dataframe tbody tr th {\n",
       "        vertical-align: top;\n",
       "    }\n",
       "\n",
       "    .dataframe thead th {\n",
       "        text-align: right;\n",
       "    }\n",
       "</style>\n",
       "<table border=\"1\" class=\"dataframe\">\n",
       "  <thead>\n",
       "    <tr style=\"text-align: right;\">\n",
       "      <th></th>\n",
       "      <th>compound</th>\n",
       "      <th>dose</th>\n",
       "      <th>logDose</th>\n",
       "      <th>response</th>\n",
       "    </tr>\n",
       "  </thead>\n",
       "  <tbody>\n",
       "    <tr>\n",
       "      <th>0</th>\n",
       "      <td>A</td>\n",
       "      <td>195.300000</td>\n",
       "      <td>3.709298</td>\n",
       "      <td>3.967082</td>\n",
       "    </tr>\n",
       "    <tr>\n",
       "      <th>1</th>\n",
       "      <td>A</td>\n",
       "      <td>97.650000</td>\n",
       "      <td>4.010328</td>\n",
       "      <td>5.131015</td>\n",
       "    </tr>\n",
       "    <tr>\n",
       "      <th>2</th>\n",
       "      <td>A</td>\n",
       "      <td>48.825000</td>\n",
       "      <td>4.311358</td>\n",
       "      <td>6.825459</td>\n",
       "    </tr>\n",
       "    <tr>\n",
       "      <th>3</th>\n",
       "      <td>A</td>\n",
       "      <td>24.412500</td>\n",
       "      <td>4.612388</td>\n",
       "      <td>8.861063</td>\n",
       "    </tr>\n",
       "    <tr>\n",
       "      <th>4</th>\n",
       "      <td>A</td>\n",
       "      <td>12.206250</td>\n",
       "      <td>4.913418</td>\n",
       "      <td>10.810485</td>\n",
       "    </tr>\n",
       "    <tr>\n",
       "      <th>5</th>\n",
       "      <td>A</td>\n",
       "      <td>6.103125</td>\n",
       "      <td>5.214448</td>\n",
       "      <td>12.311589</td>\n",
       "    </tr>\n",
       "    <tr>\n",
       "      <th>6</th>\n",
       "      <td>A</td>\n",
       "      <td>3.051563</td>\n",
       "      <td>5.515478</td>\n",
       "      <td>13.284855</td>\n",
       "    </tr>\n",
       "    <tr>\n",
       "      <th>7</th>\n",
       "      <td>A</td>\n",
       "      <td>1.525781</td>\n",
       "      <td>5.816508</td>\n",
       "      <td>13.847444</td>\n",
       "    </tr>\n",
       "    <tr>\n",
       "      <th>8</th>\n",
       "      <td>A</td>\n",
       "      <td>0.762891</td>\n",
       "      <td>6.117538</td>\n",
       "      <td>14.151278</td>\n",
       "    </tr>\n",
       "    <tr>\n",
       "      <th>9</th>\n",
       "      <td>A</td>\n",
       "      <td>0.381445</td>\n",
       "      <td>6.418568</td>\n",
       "      <td>14.309364</td>\n",
       "    </tr>\n",
       "    <tr>\n",
       "      <th>0</th>\n",
       "      <td>A</td>\n",
       "      <td>195.300000</td>\n",
       "      <td>3.709298</td>\n",
       "      <td>6.670772</td>\n",
       "    </tr>\n",
       "    <tr>\n",
       "      <th>1</th>\n",
       "      <td>A</td>\n",
       "      <td>97.650000</td>\n",
       "      <td>4.010328</td>\n",
       "      <td>7.834705</td>\n",
       "    </tr>\n",
       "    <tr>\n",
       "      <th>2</th>\n",
       "      <td>A</td>\n",
       "      <td>48.825000</td>\n",
       "      <td>4.311358</td>\n",
       "      <td>9.529149</td>\n",
       "    </tr>\n",
       "    <tr>\n",
       "      <th>3</th>\n",
       "      <td>A</td>\n",
       "      <td>24.412500</td>\n",
       "      <td>4.612388</td>\n",
       "      <td>11.564753</td>\n",
       "    </tr>\n",
       "    <tr>\n",
       "      <th>4</th>\n",
       "      <td>A</td>\n",
       "      <td>12.206250</td>\n",
       "      <td>4.913418</td>\n",
       "      <td>13.514175</td>\n",
       "    </tr>\n",
       "    <tr>\n",
       "      <th>5</th>\n",
       "      <td>A</td>\n",
       "      <td>6.103125</td>\n",
       "      <td>5.214448</td>\n",
       "      <td>15.015279</td>\n",
       "    </tr>\n",
       "    <tr>\n",
       "      <th>6</th>\n",
       "      <td>A</td>\n",
       "      <td>3.051563</td>\n",
       "      <td>5.515478</td>\n",
       "      <td>15.988545</td>\n",
       "    </tr>\n",
       "    <tr>\n",
       "      <th>7</th>\n",
       "      <td>A</td>\n",
       "      <td>1.525781</td>\n",
       "      <td>5.816508</td>\n",
       "      <td>16.551134</td>\n",
       "    </tr>\n",
       "    <tr>\n",
       "      <th>8</th>\n",
       "      <td>A</td>\n",
       "      <td>0.762891</td>\n",
       "      <td>6.117538</td>\n",
       "      <td>16.854968</td>\n",
       "    </tr>\n",
       "    <tr>\n",
       "      <th>9</th>\n",
       "      <td>A</td>\n",
       "      <td>0.381445</td>\n",
       "      <td>6.418568</td>\n",
       "      <td>17.013054</td>\n",
       "    </tr>\n",
       "    <tr>\n",
       "      <th>0</th>\n",
       "      <td>A</td>\n",
       "      <td>195.300000</td>\n",
       "      <td>3.709298</td>\n",
       "      <td>9.273474</td>\n",
       "    </tr>\n",
       "    <tr>\n",
       "      <th>1</th>\n",
       "      <td>A</td>\n",
       "      <td>97.650000</td>\n",
       "      <td>4.010328</td>\n",
       "      <td>10.437407</td>\n",
       "    </tr>\n",
       "    <tr>\n",
       "      <th>2</th>\n",
       "      <td>A</td>\n",
       "      <td>48.825000</td>\n",
       "      <td>4.311358</td>\n",
       "      <td>12.131851</td>\n",
       "    </tr>\n",
       "    <tr>\n",
       "      <th>3</th>\n",
       "      <td>A</td>\n",
       "      <td>24.412500</td>\n",
       "      <td>4.612388</td>\n",
       "      <td>14.167455</td>\n",
       "    </tr>\n",
       "    <tr>\n",
       "      <th>4</th>\n",
       "      <td>A</td>\n",
       "      <td>12.206250</td>\n",
       "      <td>4.913418</td>\n",
       "      <td>16.116877</td>\n",
       "    </tr>\n",
       "    <tr>\n",
       "      <th>5</th>\n",
       "      <td>A</td>\n",
       "      <td>6.103125</td>\n",
       "      <td>5.214448</td>\n",
       "      <td>17.617981</td>\n",
       "    </tr>\n",
       "    <tr>\n",
       "      <th>6</th>\n",
       "      <td>A</td>\n",
       "      <td>3.051563</td>\n",
       "      <td>5.515478</td>\n",
       "      <td>18.591247</td>\n",
       "    </tr>\n",
       "    <tr>\n",
       "      <th>7</th>\n",
       "      <td>A</td>\n",
       "      <td>1.525781</td>\n",
       "      <td>5.816508</td>\n",
       "      <td>19.153836</td>\n",
       "    </tr>\n",
       "    <tr>\n",
       "      <th>8</th>\n",
       "      <td>A</td>\n",
       "      <td>0.762891</td>\n",
       "      <td>6.117538</td>\n",
       "      <td>19.457670</td>\n",
       "    </tr>\n",
       "    <tr>\n",
       "      <th>9</th>\n",
       "      <td>A</td>\n",
       "      <td>0.381445</td>\n",
       "      <td>6.418568</td>\n",
       "      <td>19.615756</td>\n",
       "    </tr>\n",
       "    <tr>\n",
       "      <th>...</th>\n",
       "      <td>...</td>\n",
       "      <td>...</td>\n",
       "      <td>...</td>\n",
       "      <td>...</td>\n",
       "    </tr>\n",
       "    <tr>\n",
       "      <th>2</th>\n",
       "      <td>B</td>\n",
       "      <td>97.656250</td>\n",
       "      <td>4.010300</td>\n",
       "      <td>4.257612</td>\n",
       "    </tr>\n",
       "    <tr>\n",
       "      <th>3</th>\n",
       "      <td>B</td>\n",
       "      <td>48.828125</td>\n",
       "      <td>4.311330</td>\n",
       "      <td>4.524715</td>\n",
       "    </tr>\n",
       "    <tr>\n",
       "      <th>4</th>\n",
       "      <td>B</td>\n",
       "      <td>24.414062</td>\n",
       "      <td>4.612360</td>\n",
       "      <td>4.858243</td>\n",
       "    </tr>\n",
       "    <tr>\n",
       "      <th>5</th>\n",
       "      <td>B</td>\n",
       "      <td>12.207031</td>\n",
       "      <td>4.913390</td>\n",
       "      <td>5.191380</td>\n",
       "    </tr>\n",
       "    <tr>\n",
       "      <th>6</th>\n",
       "      <td>B</td>\n",
       "      <td>6.103516</td>\n",
       "      <td>5.214420</td>\n",
       "      <td>5.457609</td>\n",
       "    </tr>\n",
       "    <tr>\n",
       "      <th>7</th>\n",
       "      <td>B</td>\n",
       "      <td>3.051758</td>\n",
       "      <td>5.515450</td>\n",
       "      <td>5.634957</td>\n",
       "    </tr>\n",
       "    <tr>\n",
       "      <th>0</th>\n",
       "      <td>B</td>\n",
       "      <td>390.625000</td>\n",
       "      <td>3.408240</td>\n",
       "      <td>6.161862</td>\n",
       "    </tr>\n",
       "    <tr>\n",
       "      <th>1</th>\n",
       "      <td>B</td>\n",
       "      <td>195.312500</td>\n",
       "      <td>3.709270</td>\n",
       "      <td>6.266743</td>\n",
       "    </tr>\n",
       "    <tr>\n",
       "      <th>2</th>\n",
       "      <td>B</td>\n",
       "      <td>97.656250</td>\n",
       "      <td>4.010300</td>\n",
       "      <td>6.444951</td>\n",
       "    </tr>\n",
       "    <tr>\n",
       "      <th>3</th>\n",
       "      <td>B</td>\n",
       "      <td>48.828125</td>\n",
       "      <td>4.311330</td>\n",
       "      <td>6.712055</td>\n",
       "    </tr>\n",
       "    <tr>\n",
       "      <th>4</th>\n",
       "      <td>B</td>\n",
       "      <td>24.414062</td>\n",
       "      <td>4.612360</td>\n",
       "      <td>7.045583</td>\n",
       "    </tr>\n",
       "    <tr>\n",
       "      <th>5</th>\n",
       "      <td>B</td>\n",
       "      <td>12.207031</td>\n",
       "      <td>4.913390</td>\n",
       "      <td>7.378720</td>\n",
       "    </tr>\n",
       "    <tr>\n",
       "      <th>6</th>\n",
       "      <td>B</td>\n",
       "      <td>6.103516</td>\n",
       "      <td>5.214420</td>\n",
       "      <td>7.644949</td>\n",
       "    </tr>\n",
       "    <tr>\n",
       "      <th>7</th>\n",
       "      <td>B</td>\n",
       "      <td>3.051758</td>\n",
       "      <td>5.515450</td>\n",
       "      <td>7.822297</td>\n",
       "    </tr>\n",
       "    <tr>\n",
       "      <th>0</th>\n",
       "      <td>B</td>\n",
       "      <td>390.625000</td>\n",
       "      <td>3.408240</td>\n",
       "      <td>8.337516</td>\n",
       "    </tr>\n",
       "    <tr>\n",
       "      <th>1</th>\n",
       "      <td>B</td>\n",
       "      <td>195.312500</td>\n",
       "      <td>3.709270</td>\n",
       "      <td>8.442396</td>\n",
       "    </tr>\n",
       "    <tr>\n",
       "      <th>2</th>\n",
       "      <td>B</td>\n",
       "      <td>97.656250</td>\n",
       "      <td>4.010300</td>\n",
       "      <td>8.620605</td>\n",
       "    </tr>\n",
       "    <tr>\n",
       "      <th>3</th>\n",
       "      <td>B</td>\n",
       "      <td>48.828125</td>\n",
       "      <td>4.311330</td>\n",
       "      <td>8.887708</td>\n",
       "    </tr>\n",
       "    <tr>\n",
       "      <th>4</th>\n",
       "      <td>B</td>\n",
       "      <td>24.414062</td>\n",
       "      <td>4.612360</td>\n",
       "      <td>9.221236</td>\n",
       "    </tr>\n",
       "    <tr>\n",
       "      <th>5</th>\n",
       "      <td>B</td>\n",
       "      <td>12.207031</td>\n",
       "      <td>4.913390</td>\n",
       "      <td>9.554373</td>\n",
       "    </tr>\n",
       "    <tr>\n",
       "      <th>6</th>\n",
       "      <td>B</td>\n",
       "      <td>6.103516</td>\n",
       "      <td>5.214420</td>\n",
       "      <td>9.820602</td>\n",
       "    </tr>\n",
       "    <tr>\n",
       "      <th>7</th>\n",
       "      <td>B</td>\n",
       "      <td>3.051758</td>\n",
       "      <td>5.515450</td>\n",
       "      <td>9.997950</td>\n",
       "    </tr>\n",
       "    <tr>\n",
       "      <th>0</th>\n",
       "      <td>B</td>\n",
       "      <td>390.625000</td>\n",
       "      <td>3.408240</td>\n",
       "      <td>10.565906</td>\n",
       "    </tr>\n",
       "    <tr>\n",
       "      <th>1</th>\n",
       "      <td>B</td>\n",
       "      <td>195.312500</td>\n",
       "      <td>3.709270</td>\n",
       "      <td>10.670786</td>\n",
       "    </tr>\n",
       "    <tr>\n",
       "      <th>2</th>\n",
       "      <td>B</td>\n",
       "      <td>97.656250</td>\n",
       "      <td>4.010300</td>\n",
       "      <td>10.848995</td>\n",
       "    </tr>\n",
       "    <tr>\n",
       "      <th>3</th>\n",
       "      <td>B</td>\n",
       "      <td>48.828125</td>\n",
       "      <td>4.311330</td>\n",
       "      <td>11.116098</td>\n",
       "    </tr>\n",
       "    <tr>\n",
       "      <th>4</th>\n",
       "      <td>B</td>\n",
       "      <td>24.414062</td>\n",
       "      <td>4.612360</td>\n",
       "      <td>11.449626</td>\n",
       "    </tr>\n",
       "    <tr>\n",
       "      <th>5</th>\n",
       "      <td>B</td>\n",
       "      <td>12.207031</td>\n",
       "      <td>4.913390</td>\n",
       "      <td>11.782763</td>\n",
       "    </tr>\n",
       "    <tr>\n",
       "      <th>6</th>\n",
       "      <td>B</td>\n",
       "      <td>6.103516</td>\n",
       "      <td>5.214420</td>\n",
       "      <td>12.048992</td>\n",
       "    </tr>\n",
       "    <tr>\n",
       "      <th>7</th>\n",
       "      <td>B</td>\n",
       "      <td>3.051758</td>\n",
       "      <td>5.515450</td>\n",
       "      <td>12.226340</td>\n",
       "    </tr>\n",
       "  </tbody>\n",
       "</table>\n",
       "<p>90 rows × 4 columns</p>\n",
       "</div>"
      ],
      "text/plain": [
       "   compound        dose   logDose   response\n",
       "0         A  195.300000  3.709298   3.967082\n",
       "1         A   97.650000  4.010328   5.131015\n",
       "2         A   48.825000  4.311358   6.825459\n",
       "3         A   24.412500  4.612388   8.861063\n",
       "4         A   12.206250  4.913418  10.810485\n",
       "5         A    6.103125  5.214448  12.311589\n",
       "6         A    3.051563  5.515478  13.284855\n",
       "7         A    1.525781  5.816508  13.847444\n",
       "8         A    0.762891  6.117538  14.151278\n",
       "9         A    0.381445  6.418568  14.309364\n",
       "0         A  195.300000  3.709298   6.670772\n",
       "1         A   97.650000  4.010328   7.834705\n",
       "2         A   48.825000  4.311358   9.529149\n",
       "3         A   24.412500  4.612388  11.564753\n",
       "4         A   12.206250  4.913418  13.514175\n",
       "5         A    6.103125  5.214448  15.015279\n",
       "6         A    3.051563  5.515478  15.988545\n",
       "7         A    1.525781  5.816508  16.551134\n",
       "8         A    0.762891  6.117538  16.854968\n",
       "9         A    0.381445  6.418568  17.013054\n",
       "0         A  195.300000  3.709298   9.273474\n",
       "1         A   97.650000  4.010328  10.437407\n",
       "2         A   48.825000  4.311358  12.131851\n",
       "3         A   24.412500  4.612388  14.167455\n",
       "4         A   12.206250  4.913418  16.116877\n",
       "5         A    6.103125  5.214448  17.617981\n",
       "6         A    3.051563  5.515478  18.591247\n",
       "7         A    1.525781  5.816508  19.153836\n",
       "8         A    0.762891  6.117538  19.457670\n",
       "9         A    0.381445  6.418568  19.615756\n",
       "..      ...         ...       ...        ...\n",
       "2         B   97.656250  4.010300   4.257612\n",
       "3         B   48.828125  4.311330   4.524715\n",
       "4         B   24.414062  4.612360   4.858243\n",
       "5         B   12.207031  4.913390   5.191380\n",
       "6         B    6.103516  5.214420   5.457609\n",
       "7         B    3.051758  5.515450   5.634957\n",
       "0         B  390.625000  3.408240   6.161862\n",
       "1         B  195.312500  3.709270   6.266743\n",
       "2         B   97.656250  4.010300   6.444951\n",
       "3         B   48.828125  4.311330   6.712055\n",
       "4         B   24.414062  4.612360   7.045583\n",
       "5         B   12.207031  4.913390   7.378720\n",
       "6         B    6.103516  5.214420   7.644949\n",
       "7         B    3.051758  5.515450   7.822297\n",
       "0         B  390.625000  3.408240   8.337516\n",
       "1         B  195.312500  3.709270   8.442396\n",
       "2         B   97.656250  4.010300   8.620605\n",
       "3         B   48.828125  4.311330   8.887708\n",
       "4         B   24.414062  4.612360   9.221236\n",
       "5         B   12.207031  4.913390   9.554373\n",
       "6         B    6.103516  5.214420   9.820602\n",
       "7         B    3.051758  5.515450   9.997950\n",
       "0         B  390.625000  3.408240  10.565906\n",
       "1         B  195.312500  3.709270  10.670786\n",
       "2         B   97.656250  4.010300  10.848995\n",
       "3         B   48.828125  4.311330  11.116098\n",
       "4         B   24.414062  4.612360  11.449626\n",
       "5         B   12.207031  4.913390  11.782763\n",
       "6         B    6.103516  5.214420  12.048992\n",
       "7         B    3.051758  5.515450  12.226340\n",
       "\n",
       "[90 rows x 4 columns]"
      ]
     },
     "execution_count": 25,
     "metadata": {},
     "output_type": "execute_result"
    }
   ],
   "source": [
    "drData=[]\n",
    "for curve in params:\n",
    "    # generate base curve\n",
    "    curData = pd.DataFrame(data={'compound':curve['compound'],\n",
    "                                 'dose':curve['startDose']/np.power(curve['dilution'],range(curve['nDose']))})\n",
    "    curData['logDose'] = pDose(curData.dose)\n",
    "    curData['response'] = curData.dose.apply(lambda x: ll4(x,*[curve[i] for i in ['b','c','d','e']]))\n",
    "    # generate replicates\n",
    "    repData = []\n",
    "    for i in range(5):\n",
    "        rep = curData\n",
    "        rep.response += 0.25*np.random.normal(len(rep.response))\n",
    "        repData.append(rep.copy())\n",
    "    repData = pd.concat(repData)\n",
    "    drData.append(repData)\n",
    "# assemble data\n",
    "drData = pd.concat(drData)\n",
    "drData"
   ]
  },
  {
   "cell_type": "code",
   "execution_count": 26,
   "metadata": {},
   "outputs": [
    {
     "name": "stderr",
     "output_type": "stream",
     "text": [
      "C:\\Users\\jemij\\Anaconda3\\lib\\site-packages\\ipykernel_launcher.py:7: RuntimeWarning: invalid value encountered in log\n",
      "  import sys\n"
     ]
    }
   ],
   "source": [
    "compoundData = drData.groupby(['compound'])\n",
    "fitData = []\n",
    "for name,group in compoundData:\n",
    "    fitCoefs, covMatrix = opt.curve_fit(ll4, group.dose, group.response)\n",
    "    resids = group.response-group.dose.apply(lambda x: ll4(x,*fitCoefs))\n",
    "    curFit = dict(zip(['b','c','d','e'],fitCoefs))\n",
    "    curFit['compound']=name\n",
    "    curFit['residuals']=sum(resids**2)\n",
    "    fitData.append(curFit)\n",
    "fitCompound = [ item['compound'] for item in fitData]"
   ]
  },
  {
   "cell_type": "code",
   "execution_count": 27,
   "metadata": {},
   "outputs": [
    {
     "data": {
      "text/html": [
       "<div>\n",
       "<style scoped>\n",
       "    .dataframe tbody tr th:only-of-type {\n",
       "        vertical-align: middle;\n",
       "    }\n",
       "\n",
       "    .dataframe tbody tr th {\n",
       "        vertical-align: top;\n",
       "    }\n",
       "\n",
       "    .dataframe thead th {\n",
       "        text-align: right;\n",
       "    }\n",
       "</style>\n",
       "<table border=\"1\" class=\"dataframe\">\n",
       "  <thead>\n",
       "    <tr style=\"text-align: right;\">\n",
       "      <th></th>\n",
       "      <th>b</th>\n",
       "      <th>c</th>\n",
       "      <th>d</th>\n",
       "      <th>e</th>\n",
       "      <th>residuals</th>\n",
       "    </tr>\n",
       "    <tr>\n",
       "      <th>compound</th>\n",
       "      <th></th>\n",
       "      <th></th>\n",
       "      <th></th>\n",
       "      <th></th>\n",
       "      <th></th>\n",
       "    </tr>\n",
       "  </thead>\n",
       "  <tbody>\n",
       "    <tr>\n",
       "      <th>A</th>\n",
       "      <td>1.000000</td>\n",
       "      <td>7.643161</td>\n",
       "      <td>19.643161</td>\n",
       "      <td>27.800000</td>\n",
       "      <td>640.865047</td>\n",
       "    </tr>\n",
       "    <tr>\n",
       "      <th>B</th>\n",
       "      <td>1.000001</td>\n",
       "      <td>6.099450</td>\n",
       "      <td>8.099449</td>\n",
       "      <td>24.500009</td>\n",
       "      <td>366.600031</td>\n",
       "    </tr>\n",
       "  </tbody>\n",
       "</table>\n",
       "</div>"
      ],
      "text/plain": [
       "                 b         c          d          e   residuals\n",
       "compound                                                      \n",
       "A         1.000000  7.643161  19.643161  27.800000  640.865047\n",
       "B         1.000001  6.099450   8.099449  24.500009  366.600031"
      ]
     },
     "execution_count": 27,
     "metadata": {},
     "output_type": "execute_result"
    }
   ],
   "source": [
    "fitTable = pd.DataFrame(fitData).set_index('compound')\n",
    "fitTable"
   ]
  },
  {
   "cell_type": "code",
   "execution_count": 28,
   "metadata": {},
   "outputs": [
    {
     "data": {
      "image/png": "[encoded data removed]",
      "text/plain": [
       "<Figure size 420.5x360 with 1 Axes>"
      ]
     },
     "metadata": {
      "needs_background": "light"
     },
     "output_type": "display_data"
    }
   ],
   "source": [
    "refDose = np.linspace(min(drData.logDose)*0.9,max(drData.logDose)*1.1,256)\n",
    "refDose = (10**-refDose)*1e6\n",
    "sns.lmplot('logDose','response',data=drData,hue='compound',fit_reg=False)\n",
    "\n",
    "for fit in fitData:\n",
    "    plt.plot([pDose(i) for i in refDose],[ll4(i,*[fit[i] for i in ['b','c','d','e']]) for i in refDose])"
   ]
  }
 ],
 "metadata": {
  "kernelspec": {
   "display_name": "Python 3",
   "language": "python",
   "name": "python3"
  },
  "language_info": {
   "codemirror_mode": {
    "name": "ipython",
    "version": 3
   },
   "file_extension": ".py",
   "mimetype": "text/x-python",
   "name": "python",
   "nbconvert_exporter": "python",
   "pygments_lexer": "ipython3",
   "version": "3.7.3"
  }
 },
 "nbformat": 4,
 "nbformat_minor": 2
}
